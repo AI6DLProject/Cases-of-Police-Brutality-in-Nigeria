{
 "cells": [
  {
   "cell_type": "code",
   "execution_count": 19,
   "metadata": {},
   "outputs": [],
   "source": [
    "#import libraries\n",
    "import numpy as np\n",
    "import pandas as pd\n",
    "import plotly.express as px\n",
    "import matplotlib.pyplot as plt\n",
    "import seaborn as sns"
   ]
  },
  {
   "cell_type": "code",
   "execution_count": 20,
   "metadata": {},
   "outputs": [],
   "source": [
    "#import and convert dataset to dataframe\n",
    "police_df = pd.read_excel('./Data/Cases of Police Brutality in Nigeria.xlsx')"
   ]
  },
  {
   "cell_type": "code",
   "execution_count": 21,
   "metadata": {},
   "outputs": [
    {
     "data": {
      "text/html": [
       "<div>\n",
       "<style scoped>\n",
       "    .dataframe tbody tr th:only-of-type {\n",
       "        vertical-align: middle;\n",
       "    }\n",
       "\n",
       "    .dataframe tbody tr th {\n",
       "        vertical-align: top;\n",
       "    }\n",
       "\n",
       "    .dataframe thead th {\n",
       "        text-align: right;\n",
       "    }\n",
       "</style>\n",
       "<table border=\"1\" class=\"dataframe\">\n",
       "  <thead>\n",
       "    <tr style=\"text-align: right;\">\n",
       "      <th></th>\n",
       "      <th>victim</th>\n",
       "      <th>date_of_death</th>\n",
       "      <th>age</th>\n",
       "      <th>gender</th>\n",
       "      <th>city</th>\n",
       "      <th>state</th>\n",
       "      <th>manner_of_death</th>\n",
       "      <th>weapon</th>\n",
       "      <th>reason_for_killing</th>\n",
       "      <th>suspect</th>\n",
       "      <th>police_investigation</th>\n",
       "    </tr>\n",
       "  </thead>\n",
       "  <tbody>\n",
       "    <tr>\n",
       "      <th>0</th>\n",
       "      <td>Emeka Ugwuoke</td>\n",
       "      <td>March, 2002</td>\n",
       "      <td>17.0</td>\n",
       "      <td>M</td>\n",
       "      <td>Nsukka</td>\n",
       "      <td>Enugu</td>\n",
       "      <td>mutilated</td>\n",
       "      <td>unarmed</td>\n",
       "      <td>unknown</td>\n",
       "      <td>police</td>\n",
       "      <td>officer dismissed</td>\n",
       "    </tr>\n",
       "    <tr>\n",
       "      <th>1</th>\n",
       "      <td>Izuchukwu Ayogu</td>\n",
       "      <td>March, 2002</td>\n",
       "      <td>16.0</td>\n",
       "      <td>M</td>\n",
       "      <td>Nsukka</td>\n",
       "      <td>Enugu</td>\n",
       "      <td>mutilated</td>\n",
       "      <td>unarmed</td>\n",
       "      <td>unknown</td>\n",
       "      <td>police</td>\n",
       "      <td>officer dismissed</td>\n",
       "    </tr>\n",
       "    <tr>\n",
       "      <th>2</th>\n",
       "      <td>Chinedu Ani</td>\n",
       "      <td>Aug 1, 2005</td>\n",
       "      <td>NaN</td>\n",
       "      <td>M</td>\n",
       "      <td>Ogui</td>\n",
       "      <td>Enugu</td>\n",
       "      <td>shot</td>\n",
       "      <td>unarmed</td>\n",
       "      <td>suspected armed robber</td>\n",
       "      <td>police</td>\n",
       "      <td>unknown</td>\n",
       "    </tr>\n",
       "    <tr>\n",
       "      <th>3</th>\n",
       "      <td>Daniel Adewuyi Tella</td>\n",
       "      <td>Feb 7, 2006</td>\n",
       "      <td>27.0</td>\n",
       "      <td>M</td>\n",
       "      <td>Festac</td>\n",
       "      <td>Lagos</td>\n",
       "      <td>tortured</td>\n",
       "      <td>unarmed</td>\n",
       "      <td>unknown</td>\n",
       "      <td>police</td>\n",
       "      <td>no investigation</td>\n",
       "    </tr>\n",
       "    <tr>\n",
       "      <th>4</th>\n",
       "      <td>Godgift Ferguson Ekerete</td>\n",
       "      <td>July 3, 2008</td>\n",
       "      <td>24.0</td>\n",
       "      <td>M</td>\n",
       "      <td>Port Harcourt</td>\n",
       "      <td>Rivers</td>\n",
       "      <td>shot</td>\n",
       "      <td>unarmed</td>\n",
       "      <td>suspected armed robber</td>\n",
       "      <td>police</td>\n",
       "      <td>no investigation</td>\n",
       "    </tr>\n",
       "  </tbody>\n",
       "</table>\n",
       "</div>"
      ],
      "text/plain": [
       "                     victim date_of_death   age gender           city   state  \\\n",
       "0             Emeka Ugwuoke   March, 2002  17.0      M         Nsukka   Enugu   \n",
       "1           Izuchukwu Ayogu   March, 2002  16.0      M         Nsukka   Enugu   \n",
       "2               Chinedu Ani   Aug 1, 2005   NaN      M           Ogui   Enugu   \n",
       "3      Daniel Adewuyi Tella   Feb 7, 2006  27.0      M         Festac   Lagos   \n",
       "4  Godgift Ferguson Ekerete  July 3, 2008  24.0      M  Port Harcourt  Rivers   \n",
       "\n",
       "  manner_of_death   weapon      reason_for_killing suspect  \\\n",
       "0       mutilated  unarmed                 unknown  police   \n",
       "1       mutilated  unarmed                 unknown  police   \n",
       "2            shot  unarmed  suspected armed robber  police   \n",
       "3        tortured  unarmed                 unknown  police   \n",
       "4            shot  unarmed  suspected armed robber  police   \n",
       "\n",
       "  police_investigation  \n",
       "0    officer dismissed  \n",
       "1    officer dismissed  \n",
       "2              unknown  \n",
       "3     no investigation  \n",
       "4     no investigation  "
      ]
     },
     "execution_count": 21,
     "metadata": {},
     "output_type": "execute_result"
    }
   ],
   "source": [
    "police_df.head()"
   ]
  },
  {
   "cell_type": "code",
   "execution_count": 22,
   "metadata": {},
   "outputs": [],
   "source": [
    "#split date to month and year\n",
    "police_df['date_of_death'].str.split(',', expand=True)\n",
    "#rename the unnamed columns \n",
    "police_df[['Month_Day', 'death_year',]] = police_df['date_of_death'].str.split(',', expand=True)\n",
    "#again, split data to month and day\n",
    "police_df['Month_Day'].str.split(' ', expand=True)\n",
    "#rename split columns for month and day\n",
    "police_df[['death_month', 'Day',]] = police_df['Month_Day'].str.split(' ', expand=True)\n",
    "#we won't be needing the date_of_death, month_day and day columns, so drop them\n",
    "police_df = police_df.drop(columns=['date_of_death', 'Month_Day', 'Day'])"
   ]
  },
  {
   "cell_type": "code",
   "execution_count": 23,
   "metadata": {},
   "outputs": [
    {
     "data": {
      "text/html": [
       "<div>\n",
       "<style scoped>\n",
       "    .dataframe tbody tr th:only-of-type {\n",
       "        vertical-align: middle;\n",
       "    }\n",
       "\n",
       "    .dataframe tbody tr th {\n",
       "        vertical-align: top;\n",
       "    }\n",
       "\n",
       "    .dataframe thead th {\n",
       "        text-align: right;\n",
       "    }\n",
       "</style>\n",
       "<table border=\"1\" class=\"dataframe\">\n",
       "  <thead>\n",
       "    <tr style=\"text-align: right;\">\n",
       "      <th></th>\n",
       "      <th>victim</th>\n",
       "      <th>age</th>\n",
       "      <th>gender</th>\n",
       "      <th>city</th>\n",
       "      <th>state</th>\n",
       "      <th>manner_of_death</th>\n",
       "      <th>weapon</th>\n",
       "      <th>reason_for_killing</th>\n",
       "      <th>suspect</th>\n",
       "      <th>police_investigation</th>\n",
       "      <th>death_year</th>\n",
       "      <th>death_month</th>\n",
       "    </tr>\n",
       "  </thead>\n",
       "  <tbody>\n",
       "    <tr>\n",
       "      <th>0</th>\n",
       "      <td>Emeka Ugwuoke</td>\n",
       "      <td>17.0</td>\n",
       "      <td>M</td>\n",
       "      <td>Nsukka</td>\n",
       "      <td>Enugu</td>\n",
       "      <td>mutilated</td>\n",
       "      <td>unarmed</td>\n",
       "      <td>unknown</td>\n",
       "      <td>police</td>\n",
       "      <td>officer dismissed</td>\n",
       "      <td>2002</td>\n",
       "      <td>March</td>\n",
       "    </tr>\n",
       "    <tr>\n",
       "      <th>1</th>\n",
       "      <td>Izuchukwu Ayogu</td>\n",
       "      <td>16.0</td>\n",
       "      <td>M</td>\n",
       "      <td>Nsukka</td>\n",
       "      <td>Enugu</td>\n",
       "      <td>mutilated</td>\n",
       "      <td>unarmed</td>\n",
       "      <td>unknown</td>\n",
       "      <td>police</td>\n",
       "      <td>officer dismissed</td>\n",
       "      <td>2002</td>\n",
       "      <td>March</td>\n",
       "    </tr>\n",
       "    <tr>\n",
       "      <th>2</th>\n",
       "      <td>Chinedu Ani</td>\n",
       "      <td>NaN</td>\n",
       "      <td>M</td>\n",
       "      <td>Ogui</td>\n",
       "      <td>Enugu</td>\n",
       "      <td>shot</td>\n",
       "      <td>unarmed</td>\n",
       "      <td>suspected armed robber</td>\n",
       "      <td>police</td>\n",
       "      <td>unknown</td>\n",
       "      <td>2005</td>\n",
       "      <td>Aug</td>\n",
       "    </tr>\n",
       "    <tr>\n",
       "      <th>3</th>\n",
       "      <td>Daniel Adewuyi Tella</td>\n",
       "      <td>27.0</td>\n",
       "      <td>M</td>\n",
       "      <td>Festac</td>\n",
       "      <td>Lagos</td>\n",
       "      <td>tortured</td>\n",
       "      <td>unarmed</td>\n",
       "      <td>unknown</td>\n",
       "      <td>police</td>\n",
       "      <td>no investigation</td>\n",
       "      <td>2006</td>\n",
       "      <td>Feb</td>\n",
       "    </tr>\n",
       "    <tr>\n",
       "      <th>4</th>\n",
       "      <td>Godgift Ferguson Ekerete</td>\n",
       "      <td>24.0</td>\n",
       "      <td>M</td>\n",
       "      <td>Port Harcourt</td>\n",
       "      <td>Rivers</td>\n",
       "      <td>shot</td>\n",
       "      <td>unarmed</td>\n",
       "      <td>suspected armed robber</td>\n",
       "      <td>police</td>\n",
       "      <td>no investigation</td>\n",
       "      <td>2008</td>\n",
       "      <td>July</td>\n",
       "    </tr>\n",
       "  </tbody>\n",
       "</table>\n",
       "</div>"
      ],
      "text/plain": [
       "                     victim   age gender           city   state  \\\n",
       "0             Emeka Ugwuoke  17.0      M         Nsukka   Enugu   \n",
       "1           Izuchukwu Ayogu  16.0      M         Nsukka   Enugu   \n",
       "2               Chinedu Ani   NaN      M           Ogui   Enugu   \n",
       "3      Daniel Adewuyi Tella  27.0      M         Festac   Lagos   \n",
       "4  Godgift Ferguson Ekerete  24.0      M  Port Harcourt  Rivers   \n",
       "\n",
       "  manner_of_death   weapon      reason_for_killing suspect  \\\n",
       "0       mutilated  unarmed                 unknown  police   \n",
       "1       mutilated  unarmed                 unknown  police   \n",
       "2            shot  unarmed  suspected armed robber  police   \n",
       "3        tortured  unarmed                 unknown  police   \n",
       "4            shot  unarmed  suspected armed robber  police   \n",
       "\n",
       "  police_investigation death_year death_month  \n",
       "0    officer dismissed       2002       March  \n",
       "1    officer dismissed       2002       March  \n",
       "2              unknown       2005         Aug  \n",
       "3     no investigation       2006         Feb  \n",
       "4     no investigation       2008        July  "
      ]
     },
     "execution_count": 23,
     "metadata": {},
     "output_type": "execute_result"
    }
   ],
   "source": [
    "police_df.head()"
   ]
  },
  {
   "cell_type": "code",
   "execution_count": 24,
   "metadata": {},
   "outputs": [
    {
     "name": "stdout",
     "output_type": "stream",
     "text": [
      "<class 'pandas.core.frame.DataFrame'>\n",
      "RangeIndex: 58 entries, 0 to 57\n",
      "Data columns (total 12 columns):\n",
      " #   Column                Non-Null Count  Dtype  \n",
      "---  ------                --------------  -----  \n",
      " 0   victim                58 non-null     object \n",
      " 1   age                   39 non-null     float64\n",
      " 2   gender                58 non-null     object \n",
      " 3   city                  58 non-null     object \n",
      " 4   state                 58 non-null     object \n",
      " 5   manner_of_death       58 non-null     object \n",
      " 6   weapon                58 non-null     object \n",
      " 7   reason_for_killing    58 non-null     object \n",
      " 8   suspect               58 non-null     object \n",
      " 9   police_investigation  58 non-null     object \n",
      " 10  death_year            58 non-null     object \n",
      " 11  death_month           58 non-null     object \n",
      "dtypes: float64(1), object(11)\n",
      "memory usage: 5.6+ KB\n"
     ]
    }
   ],
   "source": [
    "#show information about the dataframe\n",
    "police_df.info()"
   ]
  },
  {
   "cell_type": "code",
   "execution_count": 25,
   "metadata": {},
   "outputs": [
    {
     "data": {
      "text/plain": [
       "(58, 12)"
      ]
     },
     "execution_count": 25,
     "metadata": {},
     "output_type": "execute_result"
    }
   ],
   "source": [
    "#dataframe shape\n",
    "police_df.shape"
   ]
  },
  {
   "cell_type": "code",
   "execution_count": 26,
   "metadata": {},
   "outputs": [
    {
     "data": {
      "text/plain": [
       "victim                  False\n",
       "age                      True\n",
       "gender                  False\n",
       "city                    False\n",
       "state                   False\n",
       "manner_of_death         False\n",
       "weapon                  False\n",
       "reason_for_killing      False\n",
       "suspect                 False\n",
       "police_investigation    False\n",
       "death_year              False\n",
       "death_month             False\n",
       "dtype: bool"
      ]
     },
     "execution_count": 26,
     "metadata": {},
     "output_type": "execute_result"
    }
   ],
   "source": [
    "#check for missing value\n",
    "police_df.isnull().any()"
   ]
  },
  {
   "cell_type": "code",
   "execution_count": 27,
   "metadata": {},
   "outputs": [
    {
     "data": {
      "text/plain": [
       "age    27.358974\n",
       "dtype: float64"
      ]
     },
     "execution_count": 27,
     "metadata": {},
     "output_type": "execute_result"
    }
   ],
   "source": [
    "police_df.mean()"
   ]
  },
  {
   "cell_type": "code",
   "execution_count": 28,
   "metadata": {},
   "outputs": [],
   "source": [
    "#fill up missing values\n",
    "police_df = police_df.fillna(police_df.mean())"
   ]
  },
  {
   "cell_type": "code",
   "execution_count": 29,
   "metadata": {},
   "outputs": [
    {
     "data": {
      "text/plain": [
       "victim                  0\n",
       "age                     0\n",
       "gender                  0\n",
       "city                    0\n",
       "state                   0\n",
       "manner_of_death         0\n",
       "weapon                  0\n",
       "reason_for_killing      0\n",
       "suspect                 0\n",
       "police_investigation    0\n",
       "death_year              0\n",
       "death_month             0\n",
       "dtype: int64"
      ]
     },
     "execution_count": 29,
     "metadata": {},
     "output_type": "execute_result"
    }
   ],
   "source": [
    "police_df.isnull().sum()"
   ]
  },
  {
   "cell_type": "code",
   "execution_count": 30,
   "metadata": {},
   "outputs": [
    {
     "data": {
      "text/html": [
       "<div>\n",
       "<style scoped>\n",
       "    .dataframe tbody tr th:only-of-type {\n",
       "        vertical-align: middle;\n",
       "    }\n",
       "\n",
       "    .dataframe tbody tr th {\n",
       "        vertical-align: top;\n",
       "    }\n",
       "\n",
       "    .dataframe thead th {\n",
       "        text-align: right;\n",
       "    }\n",
       "</style>\n",
       "<table border=\"1\" class=\"dataframe\">\n",
       "  <thead>\n",
       "    <tr style=\"text-align: right;\">\n",
       "      <th></th>\n",
       "      <th>victim</th>\n",
       "      <th>age</th>\n",
       "      <th>gender</th>\n",
       "      <th>city</th>\n",
       "      <th>state</th>\n",
       "      <th>manner_of_death</th>\n",
       "      <th>weapon</th>\n",
       "      <th>reason_for_killing</th>\n",
       "      <th>suspect</th>\n",
       "      <th>police_investigation</th>\n",
       "      <th>death_year</th>\n",
       "      <th>death_month</th>\n",
       "    </tr>\n",
       "  </thead>\n",
       "  <tbody>\n",
       "    <tr>\n",
       "      <th>count</th>\n",
       "      <td>58</td>\n",
       "      <td>58.000000</td>\n",
       "      <td>58</td>\n",
       "      <td>58</td>\n",
       "      <td>58</td>\n",
       "      <td>58</td>\n",
       "      <td>58</td>\n",
       "      <td>58</td>\n",
       "      <td>58</td>\n",
       "      <td>58</td>\n",
       "      <td>58</td>\n",
       "      <td>58</td>\n",
       "    </tr>\n",
       "    <tr>\n",
       "      <th>unique</th>\n",
       "      <td>58</td>\n",
       "      <td>NaN</td>\n",
       "      <td>2</td>\n",
       "      <td>34</td>\n",
       "      <td>17</td>\n",
       "      <td>7</td>\n",
       "      <td>1</td>\n",
       "      <td>11</td>\n",
       "      <td>4</td>\n",
       "      <td>9</td>\n",
       "      <td>14</td>\n",
       "      <td>14</td>\n",
       "    </tr>\n",
       "    <tr>\n",
       "      <th>top</th>\n",
       "      <td>Segun Samson</td>\n",
       "      <td>NaN</td>\n",
       "      <td>M</td>\n",
       "      <td>Port Harcourt</td>\n",
       "      <td>Rivers</td>\n",
       "      <td>shot</td>\n",
       "      <td>unarmed</td>\n",
       "      <td>unknown</td>\n",
       "      <td>police</td>\n",
       "      <td>no investigation</td>\n",
       "      <td>2019</td>\n",
       "      <td>July</td>\n",
       "    </tr>\n",
       "    <tr>\n",
       "      <th>freq</th>\n",
       "      <td>1</td>\n",
       "      <td>NaN</td>\n",
       "      <td>52</td>\n",
       "      <td>10</td>\n",
       "      <td>17</td>\n",
       "      <td>40</td>\n",
       "      <td>58</td>\n",
       "      <td>17</td>\n",
       "      <td>45</td>\n",
       "      <td>33</td>\n",
       "      <td>17</td>\n",
       "      <td>9</td>\n",
       "    </tr>\n",
       "    <tr>\n",
       "      <th>mean</th>\n",
       "      <td>NaN</td>\n",
       "      <td>27.358974</td>\n",
       "      <td>NaN</td>\n",
       "      <td>NaN</td>\n",
       "      <td>NaN</td>\n",
       "      <td>NaN</td>\n",
       "      <td>NaN</td>\n",
       "      <td>NaN</td>\n",
       "      <td>NaN</td>\n",
       "      <td>NaN</td>\n",
       "      <td>NaN</td>\n",
       "      <td>NaN</td>\n",
       "    </tr>\n",
       "    <tr>\n",
       "      <th>std</th>\n",
       "      <td>NaN</td>\n",
       "      <td>8.255752</td>\n",
       "      <td>NaN</td>\n",
       "      <td>NaN</td>\n",
       "      <td>NaN</td>\n",
       "      <td>NaN</td>\n",
       "      <td>NaN</td>\n",
       "      <td>NaN</td>\n",
       "      <td>NaN</td>\n",
       "      <td>NaN</td>\n",
       "      <td>NaN</td>\n",
       "      <td>NaN</td>\n",
       "    </tr>\n",
       "    <tr>\n",
       "      <th>min</th>\n",
       "      <td>NaN</td>\n",
       "      <td>15.000000</td>\n",
       "      <td>NaN</td>\n",
       "      <td>NaN</td>\n",
       "      <td>NaN</td>\n",
       "      <td>NaN</td>\n",
       "      <td>NaN</td>\n",
       "      <td>NaN</td>\n",
       "      <td>NaN</td>\n",
       "      <td>NaN</td>\n",
       "      <td>NaN</td>\n",
       "      <td>NaN</td>\n",
       "    </tr>\n",
       "    <tr>\n",
       "      <th>25%</th>\n",
       "      <td>NaN</td>\n",
       "      <td>23.000000</td>\n",
       "      <td>NaN</td>\n",
       "      <td>NaN</td>\n",
       "      <td>NaN</td>\n",
       "      <td>NaN</td>\n",
       "      <td>NaN</td>\n",
       "      <td>NaN</td>\n",
       "      <td>NaN</td>\n",
       "      <td>NaN</td>\n",
       "      <td>NaN</td>\n",
       "      <td>NaN</td>\n",
       "    </tr>\n",
       "    <tr>\n",
       "      <th>50%</th>\n",
       "      <td>NaN</td>\n",
       "      <td>27.358974</td>\n",
       "      <td>NaN</td>\n",
       "      <td>NaN</td>\n",
       "      <td>NaN</td>\n",
       "      <td>NaN</td>\n",
       "      <td>NaN</td>\n",
       "      <td>NaN</td>\n",
       "      <td>NaN</td>\n",
       "      <td>NaN</td>\n",
       "      <td>NaN</td>\n",
       "      <td>NaN</td>\n",
       "    </tr>\n",
       "    <tr>\n",
       "      <th>75%</th>\n",
       "      <td>NaN</td>\n",
       "      <td>27.839744</td>\n",
       "      <td>NaN</td>\n",
       "      <td>NaN</td>\n",
       "      <td>NaN</td>\n",
       "      <td>NaN</td>\n",
       "      <td>NaN</td>\n",
       "      <td>NaN</td>\n",
       "      <td>NaN</td>\n",
       "      <td>NaN</td>\n",
       "      <td>NaN</td>\n",
       "      <td>NaN</td>\n",
       "    </tr>\n",
       "    <tr>\n",
       "      <th>max</th>\n",
       "      <td>NaN</td>\n",
       "      <td>65.000000</td>\n",
       "      <td>NaN</td>\n",
       "      <td>NaN</td>\n",
       "      <td>NaN</td>\n",
       "      <td>NaN</td>\n",
       "      <td>NaN</td>\n",
       "      <td>NaN</td>\n",
       "      <td>NaN</td>\n",
       "      <td>NaN</td>\n",
       "      <td>NaN</td>\n",
       "      <td>NaN</td>\n",
       "    </tr>\n",
       "  </tbody>\n",
       "</table>\n",
       "</div>"
      ],
      "text/plain": [
       "              victim        age gender           city   state manner_of_death  \\\n",
       "count             58  58.000000     58             58      58              58   \n",
       "unique            58        NaN      2             34      17               7   \n",
       "top     Segun Samson        NaN      M  Port Harcourt  Rivers            shot   \n",
       "freq               1        NaN     52             10      17              40   \n",
       "mean             NaN  27.358974    NaN            NaN     NaN             NaN   \n",
       "std              NaN   8.255752    NaN            NaN     NaN             NaN   \n",
       "min              NaN  15.000000    NaN            NaN     NaN             NaN   \n",
       "25%              NaN  23.000000    NaN            NaN     NaN             NaN   \n",
       "50%              NaN  27.358974    NaN            NaN     NaN             NaN   \n",
       "75%              NaN  27.839744    NaN            NaN     NaN             NaN   \n",
       "max              NaN  65.000000    NaN            NaN     NaN             NaN   \n",
       "\n",
       "         weapon reason_for_killing suspect police_investigation death_year  \\\n",
       "count        58                 58      58                   58         58   \n",
       "unique        1                 11       4                    9         14   \n",
       "top     unarmed            unknown  police     no investigation       2019   \n",
       "freq         58                 17      45                   33         17   \n",
       "mean        NaN                NaN     NaN                  NaN        NaN   \n",
       "std         NaN                NaN     NaN                  NaN        NaN   \n",
       "min         NaN                NaN     NaN                  NaN        NaN   \n",
       "25%         NaN                NaN     NaN                  NaN        NaN   \n",
       "50%         NaN                NaN     NaN                  NaN        NaN   \n",
       "75%         NaN                NaN     NaN                  NaN        NaN   \n",
       "max         NaN                NaN     NaN                  NaN        NaN   \n",
       "\n",
       "       death_month  \n",
       "count           58  \n",
       "unique          14  \n",
       "top           July  \n",
       "freq             9  \n",
       "mean           NaN  \n",
       "std            NaN  \n",
       "min            NaN  \n",
       "25%            NaN  \n",
       "50%            NaN  \n",
       "75%            NaN  \n",
       "max            NaN  "
      ]
     },
     "execution_count": 30,
     "metadata": {},
     "output_type": "execute_result"
    }
   ],
   "source": [
    "#obtain descriptive statistics of the dataset\n",
    "police_df.describe(include='all')"
   ]
  },
  {
   "cell_type": "code",
   "execution_count": 31,
   "metadata": {
    "scrolled": true
   },
   "outputs": [
    {
     "data": {
      "text/html": [
       "<div>\n",
       "<style scoped>\n",
       "    .dataframe tbody tr th:only-of-type {\n",
       "        vertical-align: middle;\n",
       "    }\n",
       "\n",
       "    .dataframe tbody tr th {\n",
       "        vertical-align: top;\n",
       "    }\n",
       "\n",
       "    .dataframe thead th {\n",
       "        text-align: right;\n",
       "    }\n",
       "</style>\n",
       "<table border=\"1\" class=\"dataframe\">\n",
       "  <thead>\n",
       "    <tr style=\"text-align: right;\">\n",
       "      <th></th>\n",
       "      <th>gender</th>\n",
       "      <th>age</th>\n",
       "    </tr>\n",
       "  </thead>\n",
       "  <tbody>\n",
       "    <tr>\n",
       "      <th>0</th>\n",
       "      <td>F</td>\n",
       "      <td>25.0</td>\n",
       "    </tr>\n",
       "    <tr>\n",
       "      <th>1</th>\n",
       "      <td>M</td>\n",
       "      <td>28.0</td>\n",
       "    </tr>\n",
       "  </tbody>\n",
       "</table>\n",
       "</div>"
      ],
      "text/plain": [
       "  gender   age\n",
       "0      F  25.0\n",
       "1      M  28.0"
      ]
     },
     "execution_count": 31,
     "metadata": {},
     "output_type": "execute_result"
    }
   ],
   "source": [
    "#mean age of victims grouped by male and female\n",
    "police_df_age = police_df.groupby('gender').mean().reset_index()\n",
    "round(police_df_age)"
   ]
  },
  {
   "cell_type": "markdown",
   "metadata": {},
   "source": [
    "__mean age of victims that encounter police brutality for male is 28 years, for female is 25 years.__"
   ]
  },
  {
   "cell_type": "code",
   "execution_count": 32,
   "metadata": {},
   "outputs": [],
   "source": [
    "#group victims by manner of death\n",
    "police_df_MoD = police_df.groupby('manner_of_death')['victim'].count().sort_values(ascending=False)"
   ]
  },
  {
   "cell_type": "code",
   "execution_count": 33,
   "metadata": {},
   "outputs": [],
   "source": [
    "police_df_MoD = police_df_MoD.reset_index()"
   ]
  },
  {
   "cell_type": "code",
   "execution_count": 34,
   "metadata": {},
   "outputs": [
    {
     "data": {
      "text/html": [
       "<div>\n",
       "<style scoped>\n",
       "    .dataframe tbody tr th:only-of-type {\n",
       "        vertical-align: middle;\n",
       "    }\n",
       "\n",
       "    .dataframe tbody tr th {\n",
       "        vertical-align: top;\n",
       "    }\n",
       "\n",
       "    .dataframe thead th {\n",
       "        text-align: right;\n",
       "    }\n",
       "</style>\n",
       "<table border=\"1\" class=\"dataframe\">\n",
       "  <thead>\n",
       "    <tr style=\"text-align: right;\">\n",
       "      <th></th>\n",
       "      <th>manner_of_death</th>\n",
       "      <th>victim</th>\n",
       "      <th>percent_MoD</th>\n",
       "    </tr>\n",
       "  </thead>\n",
       "  <tbody>\n",
       "    <tr>\n",
       "      <th>0</th>\n",
       "      <td>shot</td>\n",
       "      <td>40</td>\n",
       "      <td>69.0</td>\n",
       "    </tr>\n",
       "    <tr>\n",
       "      <th>1</th>\n",
       "      <td>unknown</td>\n",
       "      <td>9</td>\n",
       "      <td>16.0</td>\n",
       "    </tr>\n",
       "    <tr>\n",
       "      <th>2</th>\n",
       "      <td>tortured</td>\n",
       "      <td>4</td>\n",
       "      <td>7.0</td>\n",
       "    </tr>\n",
       "    <tr>\n",
       "      <th>3</th>\n",
       "      <td>mutilated</td>\n",
       "      <td>2</td>\n",
       "      <td>3.0</td>\n",
       "    </tr>\n",
       "    <tr>\n",
       "      <th>4</th>\n",
       "      <td>tortured and raped</td>\n",
       "      <td>1</td>\n",
       "      <td>2.0</td>\n",
       "    </tr>\n",
       "  </tbody>\n",
       "</table>\n",
       "</div>"
      ],
      "text/plain": [
       "      manner_of_death  victim  percent_MoD\n",
       "0                shot      40         69.0\n",
       "1             unknown       9         16.0\n",
       "2            tortured       4          7.0\n",
       "3           mutilated       2          3.0\n",
       "4  tortured and raped       1          2.0"
      ]
     },
     "execution_count": 34,
     "metadata": {},
     "output_type": "execute_result"
    }
   ],
   "source": [
    "police_df_MoD['percent_MoD'] = (police_df_MoD['victim'] / 58)*100\n",
    "police_df_MoD = round(police_df_MoD)\n",
    "police_df_MoD.head()"
   ]
  },
  {
   "cell_type": "markdown",
   "metadata": {},
   "source": [
    "__shooting was recorded as the highest form (69 per cent) in which police brutality was carried out by operatives of the Nigerian police force, followed by the disappearance of suspects in their custody (16 per cent) and torture (7 per cent).__"
   ]
  },
  {
   "cell_type": "code",
   "execution_count": 35,
   "metadata": {},
   "outputs": [
    {
     "data": {
      "text/plain": [
       "Text(0.5, 0, 'Manner of Death')"
      ]
     },
     "execution_count": 35,
     "metadata": {},
     "output_type": "execute_result"
    },
    {
     "data": {
      "image/png": "[encoded data removed]",
      "text/plain": [
       "<Figure size 576x360 with 1 Axes>"
      ]
     },
     "metadata": {
      "needs_background": "light"
     },
     "output_type": "display_data"
    }
   ],
   "source": [
    "#plot a barchart showing manner_of_death by age\n",
    "plt.figure(figsize=(8,5))\n",
    "plt.xticks(rotation=90)\n",
    "sns.barplot(data=police_df_MoD, x='manner_of_death', y='victim')\n",
    "plt.xlabel('Manner of Death')"
   ]
  },
  {
   "cell_type": "markdown",
   "metadata": {},
   "source": [
    "__Both male and female victims died mostly through shooting. Unknown refers to when the police can't provide information about the whereabouts of a suspect that was in their custody.__"
   ]
  },
  {
   "cell_type": "code",
   "execution_count": 36,
   "metadata": {},
   "outputs": [
    {
     "data": {
      "text/html": [
       "<div>\n",
       "<style scoped>\n",
       "    .dataframe tbody tr th:only-of-type {\n",
       "        vertical-align: middle;\n",
       "    }\n",
       "\n",
       "    .dataframe tbody tr th {\n",
       "        vertical-align: top;\n",
       "    }\n",
       "\n",
       "    .dataframe thead th {\n",
       "        text-align: right;\n",
       "    }\n",
       "</style>\n",
       "<table border=\"1\" class=\"dataframe\">\n",
       "  <thead>\n",
       "    <tr style=\"text-align: right;\">\n",
       "      <th></th>\n",
       "      <th>reason_for_killing</th>\n",
       "      <th>victim</th>\n",
       "      <th>percent_RfD</th>\n",
       "    </tr>\n",
       "  </thead>\n",
       "  <tbody>\n",
       "    <tr>\n",
       "      <th>0</th>\n",
       "      <td>unknown</td>\n",
       "      <td>17</td>\n",
       "      <td>29.0</td>\n",
       "    </tr>\n",
       "    <tr>\n",
       "      <th>1</th>\n",
       "      <td>suspected armed robber</td>\n",
       "      <td>9</td>\n",
       "      <td>16.0</td>\n",
       "    </tr>\n",
       "    <tr>\n",
       "      <th>2</th>\n",
       "      <td>stray bullet</td>\n",
       "      <td>7</td>\n",
       "      <td>12.0</td>\n",
       "    </tr>\n",
       "    <tr>\n",
       "      <th>3</th>\n",
       "      <td>argument</td>\n",
       "      <td>6</td>\n",
       "      <td>10.0</td>\n",
       "    </tr>\n",
       "    <tr>\n",
       "      <th>4</th>\n",
       "      <td>police raid</td>\n",
       "      <td>4</td>\n",
       "      <td>7.0</td>\n",
       "    </tr>\n",
       "    <tr>\n",
       "      <th>5</th>\n",
       "      <td>failed to pay bribe</td>\n",
       "      <td>4</td>\n",
       "      <td>7.0</td>\n",
       "    </tr>\n",
       "    <tr>\n",
       "      <th>6</th>\n",
       "      <td>traffic violation</td>\n",
       "      <td>3</td>\n",
       "      <td>5.0</td>\n",
       "    </tr>\n",
       "    <tr>\n",
       "      <th>7</th>\n",
       "      <td>protesting</td>\n",
       "      <td>3</td>\n",
       "      <td>5.0</td>\n",
       "    </tr>\n",
       "    <tr>\n",
       "      <th>8</th>\n",
       "      <td>allegedly tried to flee</td>\n",
       "      <td>3</td>\n",
       "      <td>5.0</td>\n",
       "    </tr>\n",
       "    <tr>\n",
       "      <th>9</th>\n",
       "      <td>suspected kidnapper</td>\n",
       "      <td>1</td>\n",
       "      <td>2.0</td>\n",
       "    </tr>\n",
       "    <tr>\n",
       "      <th>10</th>\n",
       "      <td>allegedly armed</td>\n",
       "      <td>1</td>\n",
       "      <td>2.0</td>\n",
       "    </tr>\n",
       "  </tbody>\n",
       "</table>\n",
       "</div>"
      ],
      "text/plain": [
       "         reason_for_killing  victim  percent_RfD\n",
       "0                   unknown      17         29.0\n",
       "1    suspected armed robber       9         16.0\n",
       "2              stray bullet       7         12.0\n",
       "3                  argument       6         10.0\n",
       "4               police raid       4          7.0\n",
       "5       failed to pay bribe       4          7.0\n",
       "6         traffic violation       3          5.0\n",
       "7                protesting       3          5.0\n",
       "8   allegedly tried to flee       3          5.0\n",
       "9       suspected kidnapper       1          2.0\n",
       "10          allegedly armed       1          2.0"
      ]
     },
     "execution_count": 36,
     "metadata": {},
     "output_type": "execute_result"
    }
   ],
   "source": [
    "#group victims by reason for death\n",
    "police_df_RfD = police_df.groupby('reason_for_killing')['victim'].count().sort_values(ascending=False)\n",
    "police_df_RfD = police_df_RfD.reset_index()\n",
    "police_df_RfD['percent_RfD'] = (police_df_RfD['victim'] / 58)*100\n",
    "police_df_RfD = round(police_df_RfD)\n",
    "police_df_RfD.head(15)"
   ]
  },
  {
   "cell_type": "code",
   "execution_count": 37,
   "metadata": {},
   "outputs": [
    {
     "data": {
      "text/plain": [
       "Text(0.5, 0, 'Reason for Killing')"
      ]
     },
     "execution_count": 37,
     "metadata": {},
     "output_type": "execute_result"
    },
    {
     "data": {
      "image/png": "[encoded data removed]",
      "text/plain": [
       "<Figure size 576x360 with 1 Axes>"
      ]
     },
     "metadata": {
      "needs_background": "light"
     },
     "output_type": "display_data"
    }
   ],
   "source": [
    "#plot a barchart showing reason for death\n",
    "plt.figure(figsize=(8,5))\n",
    "plt.xticks(rotation=90)\n",
    "sns.barplot(data=police_df_RfD, x='reason_for_killing', y='victim')\n",
    "plt.xlabel('Reason for Killing')"
   ]
  },
  {
   "cell_type": "markdown",
   "metadata": {},
   "source": [
    "__This refers to what made the victims a target of police brutality. For 29 per cent of the cases, it wasn't clear why the victims were picked up, in 16 per cent of the cases the victims were suspected armed robbers, 12 per cent of the victims were unfortunately caught by a stray bullet and 10 per cent of the victims died after having a confrontation with a police man.__"
   ]
  },
  {
   "cell_type": "code",
   "execution_count": 38,
   "metadata": {},
   "outputs": [],
   "source": [
    "#group victims by state where they were killed\n",
    "police_df_state = police_df.groupby('state')['victim'].count().sort_values(ascending=False)"
   ]
  },
  {
   "cell_type": "code",
   "execution_count": 39,
   "metadata": {},
   "outputs": [],
   "source": [
    "police_df_state = police_df_state.reset_index()"
   ]
  },
  {
   "cell_type": "code",
   "execution_count": 40,
   "metadata": {},
   "outputs": [
    {
     "data": {
      "text/html": [
       "<div>\n",
       "<style scoped>\n",
       "    .dataframe tbody tr th:only-of-type {\n",
       "        vertical-align: middle;\n",
       "    }\n",
       "\n",
       "    .dataframe tbody tr th {\n",
       "        vertical-align: top;\n",
       "    }\n",
       "\n",
       "    .dataframe thead th {\n",
       "        text-align: right;\n",
       "    }\n",
       "</style>\n",
       "<table border=\"1\" class=\"dataframe\">\n",
       "  <thead>\n",
       "    <tr style=\"text-align: right;\">\n",
       "      <th></th>\n",
       "      <th>state</th>\n",
       "      <th>victim</th>\n",
       "      <th>percent</th>\n",
       "    </tr>\n",
       "  </thead>\n",
       "  <tbody>\n",
       "    <tr>\n",
       "      <th>0</th>\n",
       "      <td>Rivers</td>\n",
       "      <td>17</td>\n",
       "      <td>29.0</td>\n",
       "    </tr>\n",
       "    <tr>\n",
       "      <th>1</th>\n",
       "      <td>Lagos</td>\n",
       "      <td>10</td>\n",
       "      <td>17.0</td>\n",
       "    </tr>\n",
       "    <tr>\n",
       "      <th>2</th>\n",
       "      <td>FCT</td>\n",
       "      <td>6</td>\n",
       "      <td>10.0</td>\n",
       "    </tr>\n",
       "    <tr>\n",
       "      <th>3</th>\n",
       "      <td>Enugu</td>\n",
       "      <td>6</td>\n",
       "      <td>10.0</td>\n",
       "    </tr>\n",
       "    <tr>\n",
       "      <th>4</th>\n",
       "      <td>Anambra</td>\n",
       "      <td>2</td>\n",
       "      <td>3.0</td>\n",
       "    </tr>\n",
       "  </tbody>\n",
       "</table>\n",
       "</div>"
      ],
      "text/plain": [
       "     state  victim  percent\n",
       "0   Rivers      17     29.0\n",
       "1    Lagos      10     17.0\n",
       "2      FCT       6     10.0\n",
       "3    Enugu       6     10.0\n",
       "4  Anambra       2      3.0"
      ]
     },
     "execution_count": 40,
     "metadata": {},
     "output_type": "execute_result"
    }
   ],
   "source": [
    "#calculate percentage of death for state\n",
    "police_df_state['percent'] = (police_df_state['victim'] / 58)*100\n",
    "police_df_state = round(police_df_state)\n",
    "police_df_state.head()"
   ]
  },
  {
   "cell_type": "markdown",
   "metadata": {},
   "source": [
    "__Rivers state leads with number of deaths to police brutality (29 per cent), followed by Lagos (17 per cent) and FCT and Enugu (both 10 per cent).__"
   ]
  },
  {
   "cell_type": "code",
   "execution_count": 41,
   "metadata": {},
   "outputs": [
    {
     "data": {
      "text/html": [
       "<div>\n",
       "<style scoped>\n",
       "    .dataframe tbody tr th:only-of-type {\n",
       "        vertical-align: middle;\n",
       "    }\n",
       "\n",
       "    .dataframe tbody tr th {\n",
       "        vertical-align: top;\n",
       "    }\n",
       "\n",
       "    .dataframe thead th {\n",
       "        text-align: right;\n",
       "    }\n",
       "</style>\n",
       "<table border=\"1\" class=\"dataframe\">\n",
       "  <thead>\n",
       "    <tr style=\"text-align: right;\">\n",
       "      <th></th>\n",
       "      <th>gender</th>\n",
       "      <th>victim</th>\n",
       "      <th>percent_g</th>\n",
       "    </tr>\n",
       "  </thead>\n",
       "  <tbody>\n",
       "    <tr>\n",
       "      <th>0</th>\n",
       "      <td>M</td>\n",
       "      <td>52</td>\n",
       "      <td>90.0</td>\n",
       "    </tr>\n",
       "    <tr>\n",
       "      <th>1</th>\n",
       "      <td>F</td>\n",
       "      <td>6</td>\n",
       "      <td>10.0</td>\n",
       "    </tr>\n",
       "  </tbody>\n",
       "</table>\n",
       "</div>"
      ],
      "text/plain": [
       "  gender  victim  percent_g\n",
       "0      M      52       90.0\n",
       "1      F       6       10.0"
      ]
     },
     "execution_count": 41,
     "metadata": {},
     "output_type": "execute_result"
    }
   ],
   "source": [
    "#group victims by reason for death\n",
    "police_df_g = police_df.groupby('gender')['victim'].count().sort_values(ascending=False)\n",
    "police_df_g = police_df_g.reset_index()\n",
    "police_df_g['percent_g'] = (police_df_g['victim'] / 58)*100\n",
    "police_df_g = round(police_df_g)\n",
    "police_df_g.head()"
   ]
  },
  {
   "cell_type": "markdown",
   "metadata": {},
   "source": [
    "__90 per cent of victims were males and 10 per cent of victims were females__"
   ]
  },
  {
   "cell_type": "code",
   "execution_count": 42,
   "metadata": {},
   "outputs": [
    {
     "data": {
      "image/png": "[encoded data removed]",
      "text/plain": [
       "<Figure size 864x288 with 1 Axes>"
      ]
     },
     "metadata": {
      "needs_background": "light"
     },
     "output_type": "display_data"
    }
   ],
   "source": [
    "#manner of death by gender\n",
    "plt.figure(figsize=(12,4))\n",
    "sns.set_style(\"darkgrid\")\n",
    "splot = sns.countplot(x='manner_of_death', hue='gender', data=police_df)\n",
    "for p in splot.patches:\n",
    "    splot.annotate(format(p.get_height(), '.2f'), (p.get_x() + p.get_width() / 2., p.get_height()), \\\n",
    "                   ha = 'center', va = 'center', xytext = (0, 10), textcoords = 'offset points')\n",
    "plt.ylabel('victims')\n",
    "plt.title('Manner of death from police killing by gender', size=15)\n",
    "plt.tight_layout()"
   ]
  },
  {
   "cell_type": "markdown",
   "metadata": {},
   "source": [
    "__Males are more likely to be shot, mutilated, tortured and beaten by the police while females are more likely to be sexually molested.__"
   ]
  },
  {
   "cell_type": "code",
   "execution_count": 43,
   "metadata": {},
   "outputs": [],
   "source": [
    "#deaths by month\n",
    "police_df_DbM = police_df.groupby('death_month')['victim'].count().sort_values(ascending=False)"
   ]
  },
  {
   "cell_type": "code",
   "execution_count": 44,
   "metadata": {},
   "outputs": [],
   "source": [
    "police_df_DbM = police_df_DbM.reset_index()"
   ]
  },
  {
   "cell_type": "code",
   "execution_count": 45,
   "metadata": {},
   "outputs": [
    {
     "data": {
      "text/html": [
       "<div>\n",
       "<style scoped>\n",
       "    .dataframe tbody tr th:only-of-type {\n",
       "        vertical-align: middle;\n",
       "    }\n",
       "\n",
       "    .dataframe tbody tr th {\n",
       "        vertical-align: top;\n",
       "    }\n",
       "\n",
       "    .dataframe thead th {\n",
       "        text-align: right;\n",
       "    }\n",
       "</style>\n",
       "<table border=\"1\" class=\"dataframe\">\n",
       "  <thead>\n",
       "    <tr style=\"text-align: right;\">\n",
       "      <th></th>\n",
       "      <th>death_month</th>\n",
       "      <th>victim</th>\n",
       "      <th>percent_DbM</th>\n",
       "    </tr>\n",
       "  </thead>\n",
       "  <tbody>\n",
       "    <tr>\n",
       "      <th>0</th>\n",
       "      <td>July</td>\n",
       "      <td>9</td>\n",
       "      <td>16.0</td>\n",
       "    </tr>\n",
       "    <tr>\n",
       "      <th>1</th>\n",
       "      <td>April</td>\n",
       "      <td>8</td>\n",
       "      <td>14.0</td>\n",
       "    </tr>\n",
       "    <tr>\n",
       "      <th>2</th>\n",
       "      <td>May</td>\n",
       "      <td>7</td>\n",
       "      <td>12.0</td>\n",
       "    </tr>\n",
       "    <tr>\n",
       "      <th>3</th>\n",
       "      <td>March</td>\n",
       "      <td>7</td>\n",
       "      <td>12.0</td>\n",
       "    </tr>\n",
       "    <tr>\n",
       "      <th>4</th>\n",
       "      <td>Sept</td>\n",
       "      <td>5</td>\n",
       "      <td>9.0</td>\n",
       "    </tr>\n",
       "  </tbody>\n",
       "</table>\n",
       "</div>"
      ],
      "text/plain": [
       "  death_month  victim  percent_DbM\n",
       "0        July       9         16.0\n",
       "1       April       8         14.0\n",
       "2         May       7         12.0\n",
       "3       March       7         12.0\n",
       "4        Sept       5          9.0"
      ]
     },
     "execution_count": 45,
     "metadata": {},
     "output_type": "execute_result"
    }
   ],
   "source": [
    "#calculate percentage of death for state\n",
    "police_df_DbM['percent_DbM'] = (police_df_DbM['victim'] / 58)*100\n",
    "police_df_DbM = round(police_df_DbM)\n",
    "police_df_DbM.head()"
   ]
  },
  {
   "cell_type": "markdown",
   "metadata": {},
   "source": [
    "__July recorded the highest number of killings (16 per cent)__"
   ]
  },
  {
   "cell_type": "code",
   "execution_count": 46,
   "metadata": {},
   "outputs": [],
   "source": [
    "#deaths by year\n",
    "police_df_DbY = police_df.groupby('death_year')['victim'].count().sort_values(ascending=False)"
   ]
  },
  {
   "cell_type": "code",
   "execution_count": 47,
   "metadata": {},
   "outputs": [],
   "source": [
    "police_df_DbY = police_df_DbY.reset_index()"
   ]
  },
  {
   "cell_type": "code",
   "execution_count": 48,
   "metadata": {},
   "outputs": [
    {
     "data": {
      "text/html": [
       "<div>\n",
       "<style scoped>\n",
       "    .dataframe tbody tr th:only-of-type {\n",
       "        vertical-align: middle;\n",
       "    }\n",
       "\n",
       "    .dataframe tbody tr th {\n",
       "        vertical-align: top;\n",
       "    }\n",
       "\n",
       "    .dataframe thead th {\n",
       "        text-align: right;\n",
       "    }\n",
       "</style>\n",
       "<table border=\"1\" class=\"dataframe\">\n",
       "  <thead>\n",
       "    <tr style=\"text-align: right;\">\n",
       "      <th></th>\n",
       "      <th>death_year</th>\n",
       "      <th>victim</th>\n",
       "      <th>percent_DbY</th>\n",
       "    </tr>\n",
       "  </thead>\n",
       "  <tbody>\n",
       "    <tr>\n",
       "      <th>0</th>\n",
       "      <td>2019</td>\n",
       "      <td>17</td>\n",
       "      <td>29.0</td>\n",
       "    </tr>\n",
       "    <tr>\n",
       "      <th>1</th>\n",
       "      <td>2009</td>\n",
       "      <td>11</td>\n",
       "      <td>19.0</td>\n",
       "    </tr>\n",
       "    <tr>\n",
       "      <th>2</th>\n",
       "      <td>2008</td>\n",
       "      <td>9</td>\n",
       "      <td>16.0</td>\n",
       "    </tr>\n",
       "    <tr>\n",
       "      <th>3</th>\n",
       "      <td>2020</td>\n",
       "      <td>7</td>\n",
       "      <td>12.0</td>\n",
       "    </tr>\n",
       "    <tr>\n",
       "      <th>4</th>\n",
       "      <td>2018</td>\n",
       "      <td>2</td>\n",
       "      <td>3.0</td>\n",
       "    </tr>\n",
       "  </tbody>\n",
       "</table>\n",
       "</div>"
      ],
      "text/plain": [
       "  death_year  victim  percent_DbY\n",
       "0       2019      17         29.0\n",
       "1       2009      11         19.0\n",
       "2       2008       9         16.0\n",
       "3       2020       7         12.0\n",
       "4       2018       2          3.0"
      ]
     },
     "execution_count": 48,
     "metadata": {},
     "output_type": "execute_result"
    }
   ],
   "source": [
    "police_df_DbY['percent_DbY'] = (police_df_DbY['victim'] / 58)*100\n",
    "police_df_DbY = round(police_df_DbY)\n",
    "police_df_DbY.head()"
   ]
  },
  {
   "cell_type": "markdown",
   "metadata": {},
   "source": [
    "__The year 2019 recorded the highest number of killings (29 per cent) of unarmed civilians by the police__"
   ]
  },
  {
   "cell_type": "code",
   "execution_count": 49,
   "metadata": {},
   "outputs": [
    {
     "data": {
      "text/html": [
       "<div>\n",
       "<style scoped>\n",
       "    .dataframe tbody tr th:only-of-type {\n",
       "        vertical-align: middle;\n",
       "    }\n",
       "\n",
       "    .dataframe tbody tr th {\n",
       "        vertical-align: top;\n",
       "    }\n",
       "\n",
       "    .dataframe thead th {\n",
       "        text-align: right;\n",
       "    }\n",
       "</style>\n",
       "<table border=\"1\" class=\"dataframe\">\n",
       "  <thead>\n",
       "    <tr style=\"text-align: right;\">\n",
       "      <th></th>\n",
       "      <th>police_investigation</th>\n",
       "      <th>victim</th>\n",
       "      <th>percent_RfD</th>\n",
       "    </tr>\n",
       "  </thead>\n",
       "  <tbody>\n",
       "    <tr>\n",
       "      <th>0</th>\n",
       "      <td>no investigation</td>\n",
       "      <td>33</td>\n",
       "      <td>57.0</td>\n",
       "    </tr>\n",
       "    <tr>\n",
       "      <th>1</th>\n",
       "      <td>unknown</td>\n",
       "      <td>10</td>\n",
       "      <td>17.0</td>\n",
       "    </tr>\n",
       "    <tr>\n",
       "      <th>2</th>\n",
       "      <td>officer charged to court</td>\n",
       "      <td>6</td>\n",
       "      <td>10.0</td>\n",
       "    </tr>\n",
       "    <tr>\n",
       "      <th>3</th>\n",
       "      <td>officer dismissed</td>\n",
       "      <td>3</td>\n",
       "      <td>5.0</td>\n",
       "    </tr>\n",
       "    <tr>\n",
       "      <th>4</th>\n",
       "      <td>officers charged to court</td>\n",
       "      <td>2</td>\n",
       "      <td>3.0</td>\n",
       "    </tr>\n",
       "    <tr>\n",
       "      <th>5</th>\n",
       "      <td>officers indicted</td>\n",
       "      <td>1</td>\n",
       "      <td>2.0</td>\n",
       "    </tr>\n",
       "    <tr>\n",
       "      <th>6</th>\n",
       "      <td>officer promoted</td>\n",
       "      <td>1</td>\n",
       "      <td>2.0</td>\n",
       "    </tr>\n",
       "    <tr>\n",
       "      <th>7</th>\n",
       "      <td>officer dismissed and prosecuted</td>\n",
       "      <td>1</td>\n",
       "      <td>2.0</td>\n",
       "    </tr>\n",
       "    <tr>\n",
       "      <th>8</th>\n",
       "      <td>officer convicted</td>\n",
       "      <td>1</td>\n",
       "      <td>2.0</td>\n",
       "    </tr>\n",
       "  </tbody>\n",
       "</table>\n",
       "</div>"
      ],
      "text/plain": [
       "               police_investigation  victim  percent_RfD\n",
       "0                  no investigation      33         57.0\n",
       "1                           unknown      10         17.0\n",
       "2          officer charged to court       6         10.0\n",
       "3                 officer dismissed       3          5.0\n",
       "4         officers charged to court       2          3.0\n",
       "5                 officers indicted       1          2.0\n",
       "6                  officer promoted       1          2.0\n",
       "7  officer dismissed and prosecuted       1          2.0\n",
       "8                 officer convicted       1          2.0"
      ]
     },
     "execution_count": 49,
     "metadata": {},
     "output_type": "execute_result"
    }
   ],
   "source": [
    "#group victims by police investigation\n",
    "police_df_pi = police_df.groupby('police_investigation')['victim'].count().sort_values(ascending=False)\n",
    "police_df_pi = police_df_pi.reset_index()\n",
    "police_df_pi['percent_RfD'] = (police_df_pi['victim'] / 58)*100\n",
    "police_df_pi = round(police_df_pi)\n",
    "police_df_pi.head(10)"
   ]
  },
  {
   "cell_type": "markdown",
   "metadata": {},
   "source": [
    "__57 per cent of the cases where not officially investigated by the police in the first place, 17 per cent of the cases did not produce any information about the outcome of an investigation that was conducted. Convictions are rarely had (2 per cent) with dismissal of the officer (5 per cent) from the police force the most common form of punishment.__"
   ]
  },
  {
   "cell_type": "code",
   "execution_count": null,
   "metadata": {},
   "outputs": [],
   "source": []
  }
 ],
 "metadata": {
  "kernelspec": {
   "display_name": "Python 3",
   "language": "python",
   "name": "python3"
  },
  "language_info": {
   "codemirror_mode": {
    "name": "ipython",
    "version": 3
   },
   "file_extension": ".py",
   "mimetype": "text/x-python",
   "name": "python",
   "nbconvert_exporter": "python",
   "pygments_lexer": "ipython3",
   "version": "3.7.6"
  }
 },
 "nbformat": 4,
 "nbformat_minor": 4
}
